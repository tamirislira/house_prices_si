{
 "cells": [
  {
   "cell_type": "code",
   "execution_count": 1,
   "metadata": {},
   "outputs": [],
   "source": [
    "from sklearn import tree\n",
    "import pandas as pd\n",
    "import pickle\n",
    "\n",
    "filename = 'tree.pkl'\n",
    "decision_tree = pickle.load(open(filename, 'rb'))"
   ]
  },
  {
   "cell_type": "code",
   "execution_count": 2,
   "metadata": {},
   "outputs": [
    {
     "name": "stdout",
     "output_type": "stream",
     "text": [
      "Informe o tamanho da área construida em pés quadrados\n",
      "2000\n",
      "Dê o índice de qualidade da casa\n",
      "8\n",
      "Informe o ano de construção\n",
      "1987\n",
      "Informe o ZIP-CODE\n",
      "89546\n",
      "A casa está muito abaixo da média do mercado\n"
     ]
    }
   ],
   "source": [
    "dados = []\n",
    "dados2 = pd.DataFrame(columns=('sqft_living','grade','yr_built','zipcode'))\n",
    "\n",
    "print('Informe o tamanho da área construida em pés quadrados')\n",
    "var = input()\n",
    "dados.append(int(var))\n",
    "\n",
    "print('Dê o índice de qualidade da casa')\n",
    "var = input()\n",
    "dados.append(int(var))\n",
    "\n",
    "print('Informe o ano de construção')\n",
    "var = input()\n",
    "dados.append(int(var))\n",
    "\n",
    "print('Informe o ZIP-CODE')\n",
    "var = input()\n",
    "dados.append(int(var))\n",
    "\n",
    "dados2.loc[len(dados2)] = dados\n",
    "\n",
    "y_pred = decision_tree.predict(pd.DataFrame((dados2)))\n",
    "\n",
    "\n",
    "if y_pred == 0:\n",
    "    print('A casa está muito abaixo da média do mercado')\n",
    "elif y_pred == 1:\n",
    "    print('A casa está um pouco abaixo da média do mercado')\n",
    "elif y_pred == 2:\n",
    "    print('A casa está um pouco acima da média do mercado')\n",
    "elif y_pred == 3:\n",
    "    print('A casa está muito acima da média do mercado')"
   ]
  }
 ],
 "metadata": {
  "kernelspec": {
   "display_name": "Python 3",
   "language": "python",
   "name": "python3"
  },
  "language_info": {
   "codemirror_mode": {
    "name": "ipython",
    "version": 3
   },
   "file_extension": ".py",
   "mimetype": "text/x-python",
   "name": "python",
   "nbconvert_exporter": "python",
   "pygments_lexer": "ipython3",
   "version": "3.8.3"
  }
 },
 "nbformat": 4,
 "nbformat_minor": 4
}
