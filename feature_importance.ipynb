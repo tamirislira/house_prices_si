{
 "cells": [
  {
   "cell_type": "markdown",
   "metadata": {},
   "source": [
    "Fonte: https://machinelearningmastery.com/calculate-feature-importance-with-python/"
   ]
  },
  {
   "cell_type": "markdown",
   "metadata": {},
   "source": [
    "Para esse dataset, quantizado dessa forma, as features mais importantes são 2, 8 e 13"
   ]
  },
  {
   "cell_type": "markdown",
   "metadata": {},
   "source": [
    "Seriam:\n",
    "\n",
    "sqft_living\n",
    "\n",
    "grade\n",
    "\n",
    "zip code"
   ]
  },
  {
   "cell_type": "code",
   "execution_count": 6,
   "metadata": {},
   "outputs": [
    {
     "name": "stdout",
     "output_type": "stream",
     "text": [
      "Feature: 0, Score: 0.08016\n",
      "Feature: 1, Score: 0.08241\n",
      "Feature: 2, Score: 0.28536\n",
      "Feature: 3, Score: 0.04789\n",
      "Feature: 4, Score: 0.04836\n",
      "Feature: 5, Score: 0.00482\n",
      "Feature: 6, Score: 0.03456\n",
      "Feature: 7, Score: 0.04551\n",
      "Feature: 8, Score: 0.10102\n",
      "Feature: 9, Score: 0.03561\n",
      "Feature: 10, Score: 0.04852\n",
      "Feature: 11, Score: 0.05015\n",
      "Feature: 12, Score: 0.02416\n",
      "Feature: 13, Score: 0.11147\n"
     ]
    },
    {
     "data": {
      "image/png": "[encoded data removed]",
      "text/plain": [
       "<Figure size 432x288 with 1 Axes>"
      ]
     },
     "metadata": {
      "needs_background": "light"
     },
     "output_type": "display_data"
    }
   ],
   "source": [
    "# decision tree for feature importance on a classification problem\n",
    "from sklearn.datasets import make_classification\n",
    "from sklearn.tree import DecisionTreeClassifier\n",
    "from matplotlib import pyplot\n",
    "import pandas as pd\n",
    "\n",
    "# define dataset\n",
    "#X, y = make_classification(n_samples=1000, n_features=10, n_informative=5, n_redundant=5, random_state=1)\n",
    "\n",
    "data = pd.read_csv('data/cleaned_data.csv')\n",
    "targets = data['price']\n",
    "attributes = data.drop(['price'], axis=1)\n",
    "\n",
    "# define the model\n",
    "model = DecisionTreeClassifier()\n",
    "\n",
    "# fit the model\n",
    "#model.fit(X, y)\n",
    "model.fit(attributes, targets)\n",
    "\n",
    "# get importance\n",
    "importance = model.feature_importances_\n",
    "\n",
    "# summarize feature importance\n",
    "for i,v in enumerate(importance):\n",
    "    print('Feature: %0d, Score: %.5f' % (i, v))\n",
    "\n",
    "    # plot feature importance\n",
    "pyplot.bar([x for x in range(len(importance))], importance)\n",
    "pyplot.show()"
   ]
  }
 ],
 "metadata": {
  "kernelspec": {
   "display_name": "Python 3",
   "language": "python",
   "name": "python3"
  },
  "language_info": {
   "codemirror_mode": {
    "name": "ipython",
    "version": 3
   },
   "file_extension": ".py",
   "mimetype": "text/x-python",
   "name": "python",
   "nbconvert_exporter": "python",
   "pygments_lexer": "ipython3",
   "version": "3.8.3"
  }
 },
 "nbformat": 4,
 "nbformat_minor": 4
}
